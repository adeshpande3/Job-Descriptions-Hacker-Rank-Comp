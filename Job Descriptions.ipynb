{
 "cells": [
  {
   "cell_type": "code",
   "execution_count": 25,
   "metadata": {
    "collapsed": true
   },
   "outputs": [],
   "source": [
    "import pandas as pd\n",
    "import tensorflow as tf\n",
    "import numpy as np\n",
    "import math"
   ]
  },
  {
   "cell_type": "code",
   "execution_count": 26,
   "metadata": {
    "collapsed": true
   },
   "outputs": [],
   "source": [
    "train = pd.read_csv(\"train.tsv\", sep='\\t')"
   ]
  },
  {
   "cell_type": "code",
   "execution_count": 27,
   "metadata": {
    "collapsed": false
   },
   "outputs": [
    {
     "data": {
      "text/html": [
       "<div>\n",
       "<table border=\"1\" class=\"dataframe\">\n",
       "  <thead>\n",
       "    <tr style=\"text-align: right;\">\n",
       "      <th></th>\n",
       "      <th>tags</th>\n",
       "      <th>description</th>\n",
       "    </tr>\n",
       "  </thead>\n",
       "  <tbody>\n",
       "    <tr>\n",
       "      <th>0</th>\n",
       "      <td>licence-needed supervising-job 5-plus-years-ex...</td>\n",
       "      <td>THE COMPANY    Employer is a midstream service...</td>\n",
       "    </tr>\n",
       "    <tr>\n",
       "      <th>1</th>\n",
       "      <td>2-4-years-experience-needed salary full-time-job</td>\n",
       "      <td>ICR Staffing is now accepting resumes for Indu...</td>\n",
       "    </tr>\n",
       "    <tr>\n",
       "      <th>2</th>\n",
       "      <td>part-time-job</td>\n",
       "      <td>This is a great position for the right person....</td>\n",
       "    </tr>\n",
       "    <tr>\n",
       "      <th>3</th>\n",
       "      <td>licence-needed</td>\n",
       "      <td>A large multi-specialty health center is expan...</td>\n",
       "    </tr>\n",
       "    <tr>\n",
       "      <th>4</th>\n",
       "      <td>5-plus-years-experience-needed full-time-job b...</td>\n",
       "      <td>JOB PURPOSE:    The Account Director is respon...</td>\n",
       "    </tr>\n",
       "  </tbody>\n",
       "</table>\n",
       "</div>"
      ],
      "text/plain": [
       "                                                tags  \\\n",
       "0  licence-needed supervising-job 5-plus-years-ex...   \n",
       "1   2-4-years-experience-needed salary full-time-job   \n",
       "2                                      part-time-job   \n",
       "3                                     licence-needed   \n",
       "4  5-plus-years-experience-needed full-time-job b...   \n",
       "\n",
       "                                         description  \n",
       "0  THE COMPANY    Employer is a midstream service...  \n",
       "1  ICR Staffing is now accepting resumes for Indu...  \n",
       "2  This is a great position for the right person....  \n",
       "3  A large multi-specialty health center is expan...  \n",
       "4  JOB PURPOSE:    The Account Director is respon...  "
      ]
     },
     "execution_count": 27,
     "metadata": {},
     "output_type": "execute_result"
    }
   ],
   "source": [
    "train.head()"
   ]
  },
  {
   "cell_type": "code",
   "execution_count": 28,
   "metadata": {
    "collapsed": true
   },
   "outputs": [],
   "source": [
    "test = pd.read_csv(\"test.tsv\", sep='\\t')"
   ]
  },
  {
   "cell_type": "code",
   "execution_count": 29,
   "metadata": {
    "collapsed": false
   },
   "outputs": [
    {
     "data": {
      "text/html": [
       "<div>\n",
       "<table border=\"1\" class=\"dataframe\">\n",
       "  <thead>\n",
       "    <tr style=\"text-align: right;\">\n",
       "      <th></th>\n",
       "      <th>description</th>\n",
       "    </tr>\n",
       "  </thead>\n",
       "  <tbody>\n",
       "    <tr>\n",
       "      <th>0</th>\n",
       "      <td>Integrity Home Care has an opening on our Lead...</td>\n",
       "    </tr>\n",
       "    <tr>\n",
       "      <th>1</th>\n",
       "      <td>We're looking for a precision grinder with at ...</td>\n",
       "    </tr>\n",
       "    <tr>\n",
       "      <th>2</th>\n",
       "      <td>In Home Sales Designer Georgia Shutters– Augus...</td>\n",
       "    </tr>\n",
       "    <tr>\n",
       "      <th>3</th>\n",
       "      <td>Advanced Radiotherapy Consulting is seeking an...</td>\n",
       "    </tr>\n",
       "    <tr>\n",
       "      <th>4</th>\n",
       "      <td>Position Requirements:    ·      Professional ...</td>\n",
       "    </tr>\n",
       "  </tbody>\n",
       "</table>\n",
       "</div>"
      ],
      "text/plain": [
       "                                         description\n",
       "0  Integrity Home Care has an opening on our Lead...\n",
       "1  We're looking for a precision grinder with at ...\n",
       "2  In Home Sales Designer Georgia Shutters– Augus...\n",
       "3  Advanced Radiotherapy Consulting is seeking an...\n",
       "4  Position Requirements:    ·      Professional ..."
      ]
     },
     "execution_count": 29,
     "metadata": {},
     "output_type": "execute_result"
    }
   ],
   "source": [
    "test.head()"
   ]
  },
  {
   "cell_type": "code",
   "execution_count": 30,
   "metadata": {
    "collapsed": false
   },
   "outputs": [],
   "source": [
    "myTrainTags = train['tags'].tolist()\n",
    "myTrainDesc = train['description'].tolist()\n",
    "myTestDesc = test['description'].tolist()"
   ]
  },
  {
   "cell_type": "code",
   "execution_count": 31,
   "metadata": {
    "collapsed": false
   },
   "outputs": [],
   "source": [
    "allTags = ['part-time-job',\n",
    "          'full-time-job',\n",
    "          'hourly-wage',\n",
    "          'salary',\n",
    "          'associate-needed',\n",
    "          'bs-degree-needed',\n",
    "          'ms-or-phd-needed',\n",
    "          'licence-needed',\n",
    "          '1-year-experience-needed',\n",
    "          '2-4-years-experience-needed',\n",
    "          '5-plus-years-experience-needed',\n",
    "          'supervising-job']"
   ]
  },
  {
   "cell_type": "code",
   "execution_count": 32,
   "metadata": {
    "collapsed": false
   },
   "outputs": [
    {
     "name": "stdout",
     "output_type": "stream",
     "text": [
      "Average number of words per file 259.44685714285714\n"
     ]
    }
   ],
   "source": [
    "count = 0\n",
    "numWords = []\n",
    "for desc in myTrainDesc:\n",
    "    numWords.append(len(desc.split()))\n",
    "print (\"Average number of words per file\", (sum(numWords)/len(numWords)))\n",
    "avgNumWords = sum(numWords)/len(numWords)\n",
    "numTrainFiles = len(numWords)\n",
    "numTestFiles = len(myTestDesc)"
   ]
  },
  {
   "cell_type": "code",
   "execution_count": 33,
   "metadata": {
    "collapsed": false
   },
   "outputs": [],
   "source": [
    "trainLabels = np.zeros((numTrainFiles, len(allTags)), dtype='int32')\n",
    "for index,tag in enumerate(myTrainTags):\n",
    "    if (isinstance(tag, float) and math.isnan(tag)):\n",
    "        continue\n",
    "    split = tag.split()\n",
    "    for word in split:\n",
    "        trainLabels[index][allTags.index(word)] = 1"
   ]
  },
  {
   "cell_type": "code",
   "execution_count": 34,
   "metadata": {
    "collapsed": false
   },
   "outputs": [
    {
     "data": {
      "image/png": "[encoded data removed]",
      "text/plain": [
       "<matplotlib.figure.Figure at 0x117c15d30>"
      ]
     },
     "metadata": {},
     "output_type": "display_data"
    }
   ],
   "source": [
    "import matplotlib.pyplot as plt\n",
    "%matplotlib inline\n",
    "plt.hist(numWords, 50)\n",
    "plt.xlabel('Sequence Length')\n",
    "plt.ylabel('Frequency')\n",
    "plt.axis([0, 800, 0, 1000])\n",
    "plt.show()"
   ]
  },
  {
   "cell_type": "code",
   "execution_count": 35,
   "metadata": {
    "collapsed": false
   },
   "outputs": [],
   "source": [
    "wordsList = np.load('wordsList.npy')\n",
    "wordsList = wordsList.tolist()\n",
    "wordsList = [word.decode('UTF-8') for word in wordsList] \n",
    "wordVectors = np.load('wordVectors.npy')\n",
    "maxSeqLength = 300"
   ]
  },
  {
   "cell_type": "code",
   "execution_count": 36,
   "metadata": {
    "collapsed": true
   },
   "outputs": [],
   "source": [
    "# Removes punctuation, parentheses, question marks, etc., and leaves only alphanumeric characters\n",
    "import re\n",
    "strip_special_chars = re.compile(\"[^A-Za-z0-9 ]+\")\n",
    "\n",
    "def cleanSentences(string):\n",
    "    string = string.lower().replace(\"<br />\", \" \")\n",
    "    return re.sub(strip_special_chars, \"\", string.lower())"
   ]
  },
  {
   "cell_type": "code",
   "execution_count": 37,
   "metadata": {
    "collapsed": false
   },
   "outputs": [],
   "source": [
    "ids = np.zeros((numTrainFiles, maxSeqLength), dtype='int32')\n",
    "#fileCounter = 0\n",
    "#for fileCounter, desc in enumerate(myTrainDesc):\n",
    "#    cleanedLine = cleanSentences(desc)\n",
    "#    split = cleanedLine.split()\n",
    "#    indexCounter = 0\n",
    "#    for word in split:\n",
    "#        try:\n",
    "#            ids[fileCounter][indexCounter] = wordsList.index(word)\n",
    "#        except ValueError:\n",
    "#            ids[fileCounter][indexCounter] = 399999 #Vector for unkown words\n",
    "#        indexCounter = indexCounter + 1\n",
    "#        if indexCounter >= maxSeqLength:\n",
    "#            break"
   ]
  },
  {
   "cell_type": "code",
   "execution_count": 38,
   "metadata": {
    "collapsed": true
   },
   "outputs": [],
   "source": [
    "testIds = np.zeros((numTestFiles, maxSeqLength), dtype='int32')\n",
    "#fileCounter = 0\n",
    "#for fileCounter, desc in enumerate(myTestDesc):\n",
    "#    cleanedLine = cleanSentences(desc)\n",
    "#    split = cleanedLine.split()\n",
    "#    indexCounter = 0\n",
    "#    for word in split:\n",
    "#        try:\n",
    "#            testIds[fileCounter][indexCounter] = wordsList.index(word)\n",
    "#        except ValueError:\n",
    "#            testIds[fileCounter][indexCounter] = 399999 #Vector for unkown words\n",
    "#        indexCounter = indexCounter + 1\n",
    "#        if indexCounter >= maxSeqLength:\n",
    "#            break\n",
    "#np.save('testIdsMatrix', testIds)"
   ]
  },
  {
   "cell_type": "code",
   "execution_count": 39,
   "metadata": {
    "collapsed": true
   },
   "outputs": [],
   "source": [
    "ids = np.load('idsMatrix.npy')\n",
    "testIds = np.load('testIdsMatrix.npy')"
   ]
  },
  {
   "cell_type": "code",
   "execution_count": 45,
   "metadata": {
    "collapsed": false
   },
   "outputs": [],
   "source": [
    "batchSize = 24\n",
    "lstmUnits = 128\n",
    "numClasses = len(allTags)\n",
    "iterations = 100000\n",
    "numDimensions = 50\n",
    "tf.reset_default_graph()\n",
    "\n",
    "labels = tf.placeholder(tf.float32, [batchSize, numClasses])\n",
    "input_data = tf.placeholder(tf.int32, [batchSize, maxSeqLength])\n",
    "\n",
    "data = tf.Variable(tf.zeros([batchSize, maxSeqLength, numDimensions]),dtype=tf.float32)\n",
    "data = tf.nn.embedding_lookup(wordVectors,input_data)\n",
    "\n",
    "lstmCell = tf.contrib.rnn.BasicLSTMCell(lstmUnits)\n",
    "lstmCell = tf.contrib.rnn.DropoutWrapper(cell=lstmCell, output_keep_prob=0.75)\n",
    "value, _ = tf.nn.dynamic_rnn(lstmCell, data, dtype=tf.float32)\n",
    "\n",
    "weight = tf.Variable(tf.truncated_normal([lstmUnits, numClasses]))\n",
    "bias = tf.Variable(tf.constant(0.1, shape=[numClasses]))\n",
    "value = tf.transpose(value, [1, 0, 2])\n",
    "last = tf.gather(value, int(value.get_shape()[0]) - 1)\n",
    "prediction = (tf.matmul(last, weight) + bias)\n",
    "\n",
    "loss = tf.reduce_mean(tf.nn.softmax_cross_entropy_with_logits(logits=prediction, labels=labels))\n",
    "optimizer = tf.train.AdamOptimizer().minimize(loss)"
   ]
  },
  {
   "cell_type": "code",
   "execution_count": 46,
   "metadata": {
    "collapsed": false
   },
   "outputs": [],
   "source": [
    "from random import randint\n",
    "\n",
    "def getTrainBatch():\n",
    "    tLabels = []\n",
    "    arr = np.zeros([batchSize, maxSeqLength])\n",
    "    num = randint(1 + batchSize,3500)\n",
    "    arr = ids[num-batchSize:num]\n",
    "    tLabels = trainLabels[num-batchSize:num]\n",
    "    return arr, tLabels\n",
    "\n",
    "def getValidationBatch():\n",
    "    tLabels = []\n",
    "    arr = np.zeros([batchSize, maxSeqLength])\n",
    "    num = randint(3500,len(ids))\n",
    "    arr = ids[num-batchSize:num]\n",
    "    tLabels = trainLabels[num-batchSize:num]\n",
    "    return arr, tLabels\n",
    "\n",
    "def getTestBatch():\n",
    "    arr = np.zeros([batchSize, maxSeqLength])\n",
    "    num = randint(1 + batchSize,len(testIds))\n",
    "    arr = testIds[num-batchSize:num]\n",
    "    return arr"
   ]
  },
  {
   "cell_type": "code",
   "execution_count": 47,
   "metadata": {
    "collapsed": true
   },
   "outputs": [],
   "source": [
    "sess = tf.InteractiveSession()\n",
    "saver = tf.train.Saver()\n",
    "sess.run(tf.global_variables_initializer())"
   ]
  },
  {
   "cell_type": "code",
   "execution_count": 48,
   "metadata": {
    "collapsed": false
   },
   "outputs": [],
   "source": [
    "import datetime\n",
    "\n",
    "tf.summary.scalar('Loss', loss)\n",
    "merged = tf.summary.merge_all()\n",
    "logdir = \"tensorboard/\" + datetime.datetime.now().strftime(\"%Y%m%d-%H%M%S\") + \"/\"\n",
    "writer = tf.summary.FileWriter(logdir, sess.graph)"
   ]
  },
  {
   "cell_type": "code",
   "execution_count": 59,
   "metadata": {
    "collapsed": true
   },
   "outputs": [],
   "source": [
    "def softmax(x):\n",
    "    \"\"\"Compute softmax values for each sets of scores in x.\"\"\"\n",
    "    return np.exp(x) / np.sum(np.exp(x), axis=0)"
   ]
  },
  {
   "cell_type": "code",
   "execution_count": 61,
   "metadata": {
    "collapsed": false
   },
   "outputs": [
    {
     "data": {
      "text/plain": [
       "matrix([[ 1150.05566406,  1152.83032227,  1152.65087891,  1152.55480957,\n",
       "          1150.70532227,  1153.68103027,  1080.94006348,  1152.92956543,\n",
       "          1149.82592773,  1153.12658691,  1152.78710938,  1153.11193848]], dtype=float32)"
      ]
     },
     "execution_count": 61,
     "metadata": {},
     "output_type": "execute_result"
    }
   ],
   "source": [
    "testIterations = 1\n",
    "for i in range(testIterations):\n",
    "    nextBatch = getTestBatch();\n",
    "    t = (sess.run(prediction, {input_data: nextBatch, labels: nextBatchLabels}))\n",
    "tr = np.asmatrix(t)\n",
    "tr[0]\n"
   ]
  }
 ],
 "metadata": {
  "anaconda-cloud": {},
  "kernelspec": {
   "display_name": "Python [conda env:py3]",
   "language": "python",
   "name": "conda-env-py3-py"
  },
  "language_info": {
   "codemirror_mode": {
    "name": "ipython",
    "version": 3
   },
   "file_extension": ".py",
   "mimetype": "text/x-python",
   "name": "python",
   "nbconvert_exporter": "python",
   "pygments_lexer": "ipython3",
   "version": "3.5.2"
  }
 },
 "nbformat": 4,
 "nbformat_minor": 1
}
